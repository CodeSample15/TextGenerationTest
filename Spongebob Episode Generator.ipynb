{
 "cells": [
  {
   "cell_type": "markdown",
   "id": "b8ecbc4f",
   "metadata": {},
   "source": [
    "<h1>I hate myself for attempting this but I'm bored</h1>\n",
    "<br></br>\n",
    "<h3>Let me explain myself because I feel this needs explaining:</h3>\n",
    "<p>Recently, the GPT model has dominated the text-generation realm of AI (as it should, it's fucking amazing). However, I want to see how far I can push the RNN model for text generation before it can't be pushed any further. Of course, conditional text generation has been done before in the past with RNN, and very well, BUT: I am stubborn as fuck and need to experiment by myself to see what I can do. Also I just finished working on a video game and need a not so overcomplicated project to suck me back into the world of AI. I'll document my findings here in this notebook so you can see the deterioration of my sanity.</p>"
   ]
  },
  {
   "cell_type": "code",
   "execution_count": 1,
   "id": "daa4505f",
   "metadata": {
    "ExecuteTime": {
     "end_time": "2023-09-07T04:16:38.685216Z",
     "start_time": "2023-09-07T04:16:37.492672Z"
    }
   },
   "outputs": [],
   "source": [
    "import numpy as np\n",
    "import matplotlib.pyplot as plt\n",
    "import pickle\n",
    "import glob\n",
    "from time import sleep\n",
    "\n",
    "from bs4 import BeautifulSoup as bs4\n",
    "import requests\n",
    "\n",
    "DESC_FILE = 'ep_descs.pkl'\n",
    "#TRANS_FILE = 'C:/Users/lukec/Documents/Datasets/SpongeBob_SquarePants_Transcripts/'\n",
    "TRANS_FILE = 'D:/Machine Learning/Datasets/SpongeBob_SquarePants_Transcripts/'\n",
    "\n",
    "MAX_SEQ_LEN = 40"
   ]
  },
  {
   "cell_type": "markdown",
   "id": "6be69ec7",
   "metadata": {},
   "source": [
    "<h2>Problem #1: web scraping</h2>\n",
    "<br></br>\n",
    "<p>In order to get the generator to generate scripts from a prompt, I need to get descriptions of each episode (which will be the prompts of this generator). Fortunately, this data can be found on the Spongebob Wiki. Unfortunately, this means I have to do some mother-fucking web scraping. I'll try explain what I'm doing with comments but to be honest, I'm going to give up on that pretty quickly. Sorry in advance for my ugly python code</p>\n",
    "<p>For ease of use later on, I'll store the data (which will be kept in a dictionary) into a seperate file using python's pickle</p>"
   ]
  },
  {
   "cell_type": "code",
   "execution_count": 10,
   "id": "a2417651",
   "metadata": {
    "ExecuteTime": {
     "end_time": "2023-09-05T01:13:38.509634Z",
     "start_time": "2023-09-05T01:13:31.277824Z"
    }
   },
   "outputs": [
    {
     "name": "stdout",
     "output_type": "stream",
     "text": [
      "Finished\n"
     ]
    }
   ],
   "source": [
    "#running for each season of spongebob\n",
    "SEASONS = 13\n",
    "data = {}\n",
    "\n",
    "for season in range(1, SEASONS+1):\n",
    "    page = requests.get(f\"https://spongebob.fandom.com/wiki/Season_{season}#List_of_episodes\").content\n",
    "    \n",
    "    soup = bs4(page, 'html.parser')\n",
    "    table = soup.find_all('table', class_='general')[0]\n",
    "        \n",
    "    #let's get the title and descriptions of each episode\n",
    "    titles = table.find_all('td', style='text-align:left')\n",
    "    descriptions = table.find_all('td', colspan='4')\n",
    "    \n",
    "    for j in range(len(titles)):\n",
    "        title = titles[j].text\n",
    "        desc = descriptions[j].text\n",
    "        #getting rid of the quotation marks around the episode name with possibly the most python line of code ever written (then also do some other pre processing)\n",
    "        title = title[1:-2]\n",
    "        title = title.replace(' ', '')\n",
    "        title = title.lower()\n",
    "        \n",
    "        data[title] = desc #updating the dataset\n",
    "        \n",
    "#save the compiled data to a file\n",
    "with open(DESC_FILE, 'wb') as f:\n",
    "    pickle.dump(data, f)\n",
    "\n",
    "print(\"Finished\")"
   ]
  },
  {
   "cell_type": "markdown",
   "id": "cceeadb8",
   "metadata": {},
   "source": [
    "<p>Alright, that wasn't as bad as I thought it would be. I ended up getting the script to work on the third or fourth time. Luckily the spongebob wiki doesn't require javascript to load its shit, so I didn't have to boot up selenium to get this scraper to work. Come to think of it, this was probably the best experience I've had writing a web scraper. Nice</p>"
   ]
  },
  {
   "cell_type": "markdown",
   "id": "3e18a47c",
   "metadata": {},
   "source": [
    "<h1>Problem #2: bringing both datasets together</h1>\n",
    "<br></br>\n",
    "<p>Now that I have all the data I need, I need to compile everything into a single dataset that I can use to train the network with. This means for the transcripts, I have to clean, tokenize, and pad everything. For the episode descriptions, I need to combine the descriptions with the correct transcripts.</p>\n",
    "<p>Some things to consider: RNN models are notoriously bad at generating long sequences of text. Should I set the sampling size lower so that the model performs better? Or should I keep it high so I can really test the limits of this type of model. Hmmmm.... I guess I'll figure it out as I go, but I'm pretty sure I'm going to have to set the sampling size to be smaller. I'll start with the full transcripts and go from there. I think the main reason I want to do this is because I already know how bad LSTM is at performing this task, but I haven't really tested the GRU layer that much and am curious as to how it performs. I think I'll end up training two models.</p>"
   ]
  },
  {
   "cell_type": "markdown",
   "id": "de593a2b",
   "metadata": {},
   "source": [
    "<h3>Quick side note:</h3>\n",
    "<p>I want to really quickly go over in text what I want the architecture of the model to be (inputs and outputs for now, I'll go into more detail when I build the model). For starters, the model will have two inputs: X1 and X2. They will store the previous text in the transcript and the prompt, respectively. The output will be a one-hot encoding of the next token to be added to the sequence. My hope with using the two seperate inputs for the model will help it perform better when generating scripts that are more relevant to the provided episode prompt. Again, GPT models handle this problem with ease, but when it comes to RNNs, I want to make sure the model remembers what it should be generating</p>\n",
    "<p>I'll go with this design for as long as possible, so hopefully I don't lose my shit trying to keep this plan from failing. I have to remember that this is not going to work the first time cuz I have no clue what the fuck I'm doing.</p>"
   ]
  },
  {
   "cell_type": "code",
   "execution_count": 2,
   "id": "bc50dd7d",
   "metadata": {
    "ExecuteTime": {
     "end_time": "2023-09-07T04:16:48.673161Z",
     "start_time": "2023-09-07T04:16:45.415401Z"
    }
   },
   "outputs": [
    {
     "name": "stdout",
     "output_type": "stream",
     "text": [
      "76 items failed to load\n",
      "317 items loaded!\n"
     ]
    }
   ],
   "source": [
    "#let's start with the basics: loading the data from disk\n",
    "dataset = {}\n",
    "\n",
    "descs = {}\n",
    "with open(DESC_FILE, 'rb') as f:\n",
    "    descs = pickle.load(f)\n",
    "\n",
    "failed_items = 0\n",
    "successful_items = 0\n",
    "    \n",
    "for file in glob.glob(TRANS_FILE + '*.txt'):\n",
    "    ep_title = file.split('\\\\')[1].split('.')[0]\n",
    "    ep_title = ep_title.lower()\n",
    "    \n",
    "    #try to access the description of the episode, if it's not on file, just ignore it\n",
    "    try:\n",
    "        desc = descs[ep_title]\n",
    "        \n",
    "        lines = []\n",
    "        with open(file, 'r', encoding='utf-8') as f:\n",
    "            for line in f.readlines():\n",
    "                lines.append(line.lower())\n",
    "                #lines.extend('\\n')\n",
    "        \n",
    "        dataset[desc] = lines\n",
    "        successful_items += 1\n",
    "    except:\n",
    "        failed_items += 1\n",
    "        continue\n",
    "\n",
    "print(f\"{failed_items} items failed to load\")\n",
    "print(f\"{successful_items} items loaded!\")"
   ]
  },
  {
   "cell_type": "code",
   "execution_count": 3,
   "id": "1f6959a2",
   "metadata": {
    "ExecuteTime": {
     "end_time": "2023-09-07T04:17:16.628123Z",
     "start_time": "2023-09-07T04:16:51.028816Z"
    }
   },
   "outputs": [
    {
     "name": "stdout",
     "output_type": "stream",
     "text": [
      "Processing data...\n",
      "Finished\n"
     ]
    }
   ],
   "source": [
    "#alright, now let's process and organize this data (spaghetti code incoming)\n",
    "print(\"Processing data...\")\n",
    "\n",
    "pretokenized = []\n",
    "pretokenizedDescs = []\n",
    "\n",
    "def tokenize(line):\n",
    "    #not even going to explain this mess. Just know this cleans the data. Don't currently know a better way of doing this and it's killing me inside. \n",
    "    tokens = []\n",
    "    for char in line:\n",
    "        tokens.append(char)\n",
    "    return tokens\n",
    "\n",
    "def tokenize_words(line):\n",
    "    #not even going to explain this mess. Just know this cleans the data. Don't currently know a better way of doing this and it's killing me inside. \n",
    "    tokens = []\n",
    "    for word in line.split(' '):\n",
    "        newword = \"\"\n",
    "        for char in word:\n",
    "            if not char.isalpha():\n",
    "                if newword != \"\":\n",
    "                    tokens.append(newword)\n",
    "                newword = \"\"\n",
    "                tokens.append(char)\n",
    "            else:\n",
    "                newword += char\n",
    "        if(newword!=''):\n",
    "            tokens.append(newword)\n",
    "    return tokens\n",
    "\n",
    "for desc in dataset:\n",
    "    #clean the data\n",
    "    tempdata = [x for x in dataset[desc] if x != '\\n']\n",
    "    tokens = []\n",
    "    descTokens = []\n",
    "    \n",
    "    for line in tempdata:\n",
    "        line += \"\\n\"\n",
    "        tokens.extend(tokenize_words(line))\n",
    "        \n",
    "    pretokenizedDescs.append(tokenize_words(desc.lower()))\n",
    "    #removing unecessary tokens\n",
    "    pretokenizedDescs[-1].pop(pretokenizedDescs[-1].index('\\n'))\n",
    "    \n",
    "    pretokenized.append(tokens)\n",
    "    \n",
    "#now let's tokenize this sucker and then move on to building the dataset to be fed to the network.\n",
    "lib = [''] #library of tokens\n",
    "tokenized = [] #dataset tokenized\n",
    "tokenizedDescs = [] #same thing but descriptions\n",
    "maxLen = 0 #for padding later down the road\n",
    "maxDescLen = 0 #same thing but for descriptions\n",
    "\n",
    "#first the transcripts (calculating the maximum sequence length and then tokenizing the dataset using the lib array)\n",
    "for i in pretokenized:\n",
    "    if len(i) > maxLen:\n",
    "        maxLen = len(i)\n",
    "    for j in i:\n",
    "        if j not in lib:\n",
    "            lib.append(j)\n",
    "            \n",
    "for i in pretokenized:\n",
    "    temp = []\n",
    "    for j in i:\n",
    "        temp.append(lib.index(j))\n",
    "    tokenized.append(temp)\n",
    "    \n",
    "#now the descriptions\n",
    "for i in pretokenizedDescs:\n",
    "    if len(i) > maxDescLen:\n",
    "        maxDescLen = len(i)\n",
    "    for j in i: #continuing to build upon the library just in case there are some tokens that didn't make the list yet\n",
    "        if j not in lib:\n",
    "            lib.append(j)\n",
    "            \n",
    "for i in pretokenizedDescs:\n",
    "    temp = []\n",
    "    for j in i:\n",
    "        temp.append(lib.index(j))\n",
    "    tokenizedDescs.append(temp)\n",
    "    \n",
    "#now we need to pad the tokenized descriptions since that won't happen automatically when the dataset it built\n",
    "for i, n in enumerate(tokenizedDescs):\n",
    "    for j in range(maxDescLen-len(n)):\n",
    "        tokenizedDescs[i].append(0) #padding (0 token represents and empty string in the lib array)\n",
    "\n",
    "print(\"Finished\")"
   ]
  },
  {
   "cell_type": "code",
   "execution_count": 9,
   "id": "ce3b6b91",
   "metadata": {
    "ExecuteTime": {
     "end_time": "2023-09-06T23:17:44.672183Z",
     "start_time": "2023-09-06T23:17:44.654215Z"
    }
   },
   "outputs": [],
   "source": [
    "from tensorflow.keras.utils import to_categorical\n",
    "import random\n",
    "\n",
    "#smallest length a sequence can be\n",
    "MIN_LEN = MAX_SEQ_LEN\n",
    "\n",
    "X1 = [] #ep descriptions\n",
    "X2 = [] #prev tokens\n",
    "Y = []  #ep transcipts\n",
    "\n",
    "#helper to generate random batches of data from the main dataset\n",
    "#loading the whole dataset to memory at one time on my 16GB of ram would fry my computer pretty quickly. Let's avoid that\n",
    "def get_dataset(batch_size, size=MAX_SEQ_LEN):\n",
    "    X1 = []\n",
    "    X2 = []\n",
    "    Y = []\n",
    "    for batch in range(batch_size):\n",
    "        rand_trans = random.randrange(MIN_LEN, len(tokenized)) #get a random transcript to get information from\n",
    "        rand_start = random.randrange(0, len(tokenized[rand_trans])-size)\n",
    "        \n",
    "        temp = tokenized[rand_trans][rand_start:rand_start+size]\n",
    "\n",
    "        X1.append(np.array(temp))\n",
    "        X2.append(tokenizedDescs[rand_trans])\n",
    "        Y.append(tokenized[rand_trans][rand_start+size])\n",
    "        \n",
    "    X1 = np.array(X1, dtype='float32')\n",
    "    X2 = np.array(X2, dtype='float32')\n",
    "    Y = np.array(Y)\n",
    "    \n",
    "    Y = to_categorical(Y, num_classes=len(lib))\n",
    "    return X1, X2, Y"
   ]
  },
  {
   "cell_type": "markdown",
   "id": "cf3f7ac2",
   "metadata": {},
   "source": [
    "<h1>Problem #3: Building the model</h1>\n",
    "<br></br>\n",
    "<p>Gettting the data prepped is always the most annoying and difficult part. This time (for me at least) was no exception. I spent a good 2 hours writing the above cells, and now I'm ready to move on. Luckily, with everything put into place, it should IN THEORY be easy to set this model up.</p>\n",
    "<p>I already went over the plan in an above cell, so I won't explain myself again. This is already a stupid idea, I'm just going to roll with it at this point. I'm going to start with one GRU layer for each input layer, and then move on from there depending on how the model performs. I'll make sure to update this cell if I decide to change the model design drastically (which I most likely will do). I also plan on comparing the difference in performance between a LSTM model and a GRU model, so I'll document my findings later down the line. I feel like GRU will perform better, but I'll test both models just to be sure.</p>"
   ]
  },
  {
   "cell_type": "code",
   "execution_count": 10,
   "id": "e583fb19",
   "metadata": {
    "ExecuteTime": {
     "end_time": "2023-09-06T23:17:47.457059Z",
     "start_time": "2023-09-06T23:17:47.431099Z"
    }
   },
   "outputs": [],
   "source": [
    "from tensorflow.keras.models import Sequential, Model\n",
    "from tensorflow.keras.layers import Input, Embedding, Dense, GRU, LSTM, Dropout, BatchNormalization, concatenate, TimeDistributed, Flatten\n",
    "from tensorflow.keras.layers import LeakyReLU\n",
    "from tensorflow.keras.optimizers import Adam\n",
    "\n",
    "def GRUModel():\n",
    "    #transcript input\n",
    "    x_in = Input(shape=(MAX_SEQ_LEN))\n",
    "    \n",
    "    x = Embedding(len(lib), 20, input_length=1)(x_in)\n",
    "    \n",
    "    x = GRU(128)(x)\n",
    "    \n",
    "    x = Model(inputs=x_in, outputs=x)\n",
    "    \n",
    "    #descriptions input\n",
    "    y_in = Input(shape=(maxDescLen))\n",
    "    \n",
    "    y = Embedding(len(lib), 20, input_length=1)(y_in)\n",
    "    \n",
    "    y = GRU(64)(y)\n",
    "    \n",
    "    y = Model(inputs=y_in, outputs=y)\n",
    "    \n",
    "    #models combined\n",
    "    z = concatenate([x, y])\n",
    "    \n",
    "    z = Dense(128)(z)\n",
    "    z = LeakyReLU()(z)\n",
    "    z = Dropout(0.2)(z)\n",
    "    \n",
    "    z = Dense(len(lib), activation='softmax')(z)\n",
    "    \n",
    "    z = Model(inputs=[x_in, y_in], outputs=z)\n",
    "    return z\n",
    "\n",
    "def LSTMModel():\n",
    "    #transcript input\n",
    "    x_in = Input(shape=(MAX_SEQ_LEN))\n",
    "    \n",
    "    x = Embedding(len(lib), 20, input_length=1)(x_in)\n",
    "    \n",
    "    x = LSTM(128)(x)\n",
    "    \n",
    "    x = Model(inputs=x_in, outputs=x)\n",
    "    \n",
    "    #descriptions input\n",
    "    y_in = Input(shape=(maxDescLen))\n",
    "    \n",
    "    y = Embedding(len(lib), 20, input_length=1)(y_in)\n",
    "    \n",
    "    y = LSTM(64)(y)\n",
    "    \n",
    "    y = Model(inputs=y_in, outputs=y)\n",
    "    \n",
    "    #models combined\n",
    "    z = concatenate([x.output, y.output])\n",
    "    \n",
    "    z = Dense(128)(z)\n",
    "    z = LeakyReLU()(z)\n",
    "    z = Dropout(0.2)(z)\n",
    "    \n",
    "    z = Dense(len(lib), activation='softmax')(z)\n",
    "    \n",
    "    z = Model(inputs=[x_in, y_in], outputs=z)\n",
    "    return z"
   ]
  },
  {
   "cell_type": "code",
   "execution_count": 11,
   "id": "bb8646ef",
   "metadata": {
    "ExecuteTime": {
     "end_time": "2023-09-06T23:17:50.358259Z",
     "start_time": "2023-09-06T23:17:48.774354Z"
    },
    "scrolled": true
   },
   "outputs": [
    {
     "name": "stdout",
     "output_type": "stream",
     "text": [
      "Model: \"model_3\"\n",
      "__________________________________________________________________________________________________\n",
      "Layer (type)                    Output Shape         Param #     Connected to                     \n",
      "==================================================================================================\n",
      "input_3 (InputLayer)            [(None, 40)]         0                                            \n",
      "__________________________________________________________________________________________________\n",
      "input_4 (InputLayer)            [(None, 39)]         0                                            \n",
      "__________________________________________________________________________________________________\n",
      "embedding_1 (Embedding)         (None, 40, 20)       357340      input_3[0][0]                    \n",
      "__________________________________________________________________________________________________\n",
      "embedding_2 (Embedding)         (None, 39, 20)       357340      input_4[0][0]                    \n",
      "__________________________________________________________________________________________________\n",
      "lstm (LSTM)                     (None, 128)          76288       embedding_1[0][0]                \n",
      "__________________________________________________________________________________________________\n",
      "lstm_1 (LSTM)                   (None, 64)           21760       embedding_2[0][0]                \n",
      "__________________________________________________________________________________________________\n",
      "concatenate (Concatenate)       (None, 192)          0           lstm[0][0]                       \n",
      "                                                                 lstm_1[0][0]                     \n",
      "__________________________________________________________________________________________________\n",
      "dense_1 (Dense)                 (None, 128)          24704       concatenate[0][0]                \n",
      "__________________________________________________________________________________________________\n",
      "leaky_re_lu_1 (LeakyReLU)       (None, 128)          0           dense_1[0][0]                    \n",
      "__________________________________________________________________________________________________\n",
      "dropout_1 (Dropout)             (None, 128)          0           leaky_re_lu_1[0][0]              \n",
      "__________________________________________________________________________________________________\n",
      "dense_2 (Dense)                 (None, 17867)        2304843     dropout_1[0][0]                  \n",
      "==================================================================================================\n",
      "Total params: 3,142,275\n",
      "Trainable params: 3,142,275\n",
      "Non-trainable params: 0\n",
      "__________________________________________________________________________________________________\n",
      "None\n"
     ]
    }
   ],
   "source": [
    "model = LSTMModel()\n",
    "\n",
    "opt = Adam(learning_rate=0.0003)\n",
    "model.compile(loss='categorical_crossentropy', optimizer=opt, metrics=['accuracy'])\n",
    "print(model.summary())"
   ]
  },
  {
   "cell_type": "code",
   "execution_count": 12,
   "id": "5921be10",
   "metadata": {
    "ExecuteTime": {
     "end_time": "2023-09-06T23:22:05.505508Z",
     "start_time": "2023-09-06T23:17:53.145994Z"
    }
   },
   "outputs": [
    {
     "name": "stdout",
     "output_type": "stream",
     "text": [
      "Epoch 1000/1000: LOSS=5.513247489929199    ACC=0.09375\n",
      "Finished\n"
     ]
    },
    {
     "data": {
      "text/plain": [
       "[<matplotlib.lines.Line2D at 0x15cbe1b0220>,\n",
       " <matplotlib.lines.Line2D at 0x15cbe1b0340>]"
      ]
     },
     "execution_count": 12,
     "metadata": {},
     "output_type": "execute_result"
    },
    {
     "data": {
      "image/png": "[encoded data removed]",
      "text/plain": [
       "<Figure size 432x288 with 1 Axes>"
      ]
     },
     "metadata": {
      "needs_background": "light"
     },
     "output_type": "display_data"
    }
   ],
   "source": [
    "#fitting the model (please god please work please)\n",
    "from IPython.display import clear_output\n",
    "\n",
    "epochs = 1000\n",
    "batch_size = 128\n",
    "\n",
    "losses = []\n",
    "\n",
    "for i in range(epochs):\n",
    "    #generate some data\n",
    "    X1, X2, Y = get_dataset(batch_size, MAX_SEQ_LEN)\n",
    "\n",
    "    #train the network\n",
    "    loss = model.train_on_batch([X1, X2], Y)\n",
    "    losses.append(loss)\n",
    "    \n",
    "    clear_output(wait=True)\n",
    "    print(f\"Epoch {i+1}/{epochs}: LOSS={loss[0]}    ACC={loss[1]}\")\n",
    "\n",
    "print(\"Finished\")\n",
    "model.save(\"SpongeBobLSTM.h5\")\n",
    "plt.plot(losses)"
   ]
  },
  {
   "cell_type": "markdown",
   "id": "6e193c75",
   "metadata": {},
   "source": [
    "<h1>Problem #4: Testing the model</h1>\n",
    "<br></br>\n",
    "<p>Now that I have a trainable model, I need a way of testing it's capabilities outside of a graph. My goal is to create a program that takes a prompt, tokenizes and processes the prompt, and then passes it through the model until the model generates a story as big as what it can take as input (if that makes any sense). Hopefully the code should explain itself for this one as I'll be using a lot of the code I already written.</p>"
   ]
  },
  {
   "cell_type": "code",
   "execution_count": 13,
   "id": "262ab4f0",
   "metadata": {
    "ExecuteTime": {
     "end_time": "2023-09-06T23:22:37.669232Z",
     "start_time": "2023-09-06T23:22:15.752441Z"
    }
   },
   "outputs": [
    {
     "name": "stdout",
     "output_type": "stream",
     "text": [
      "Enter prompt for episode: Spongebob finds a hidden sea shell and sells it to patrick\n"
     ]
    },
    {
     "data": {
      "application/vnd.jupyter.widget-view+json": {
       "model_id": "9f257c38d7b24afead1c079d0149dba1",
       "version_major": 2,
       "version_minor": 0
      },
      "text/plain": [
       "HBox(children=(HTML(value=''), FloatProgress(value=0.0, max=50.0), HTML(value='')))"
      ]
     },
     "metadata": {},
     "output_type": "display_data"
    },
    {
     "name": "stdout",
     "output_type": "stream",
     "text": [
      "\n",
      "[ pan over live - action houses ] \n",
      " \n",
      " french narrator : we take you now to encino , california , where we find the president of the spongebob squarepants fan club . . flipping burgers ? ! \n",
      " \n",
      " \n",
      " \n",
      " \n",
      " \n",
      " \n",
      " \n",
      " \n",
      " \n",
      " \n",
      " \n",
      " \n",
      " \n",
      " \n",
      " \n",
      " \n",
      " \n",
      " \n",
      " \n",
      " \n",
      " \n",
      " \n",
      " \n",
      " \n",
      " \n",
      " \n",
      " \n",
      " \n",
      " \n",
      " \n",
      " \n",
      " \n",
      " \n",
      " \n",
      " \n",
      " \n",
      " \n",
      " \n",
      " \n",
      " \n",
      " \n",
      " \n",
      " \n",
      " \n",
      " \n",
      " \n",
      " \n",
      " \n",
      " \n",
      " \n",
      " \n"
     ]
    }
   ],
   "source": [
    "from tqdm.notebook import tqdm as log_progress\n",
    "from tensorflow.keras.models import load_model\n",
    "\n",
    "def shift(arr, new=0.0):\n",
    "    for i in range(1, len(arr[0])):\n",
    "        arr[0][i-1] = arr[0][i]\n",
    "    arr[0][-1] = new\n",
    "\n",
    "model = load_model(\"SpongebobLSTM.h5\")\n",
    "\n",
    "#how many tokens to take from the actual dataset \n",
    "start_seq_len = MAX_SEQ_LEN\n",
    "EP_LEN = 50 #how many times the program should run\n",
    "\n",
    "prompt = input(\"Enter prompt for episode: \")\n",
    "prompt = prompt.lower()\n",
    "\n",
    "#tokenize the prompt if it's short enough\n",
    "if len(prompt.split(' ')) < maxDescLen:\n",
    "    tokens = tokenize_words(prompt)\n",
    "    ep_prompt = []\n",
    "    \n",
    "    for i in tokens:\n",
    "        if i in lib:\n",
    "            ep_prompt.append(lib.index(i))\n",
    "        else:\n",
    "            ep_prompt.append(0)\n",
    "            \n",
    "    for i in range(maxDescLen-len(ep_prompt)):\n",
    "        ep_prompt.append(0)\n",
    "        \n",
    "    ep_prompt = np.array(ep_prompt)\n",
    "    ep_prompt = np.reshape(ep_prompt, (1, ep_prompt.shape[0]))\n",
    "    \n",
    "    #create a temp array to hold the previous tokens of the generated story\n",
    "    episode = []\n",
    "    \n",
    "    temp = np.zeros((1, MAX_SEQ_LEN))\n",
    "    temp[0][0:start_seq_len] = random.choice(tokenized)[0:start_seq_len]\n",
    "    \n",
    "    for i in range(start_seq_len):\n",
    "        episode.append(int(temp[0][i]))\n",
    "    \n",
    "    for i in log_progress(range(EP_LEN)):\n",
    "        next_token = model.predict([temp, ep_prompt], verbose=0)\n",
    "        episode.append(int(next_token[0].argmax()))\n",
    "        shift(temp, new=next_token[0].argmax())\n",
    "        \n",
    "    #finally print the finished story\n",
    "    episode_script = ''\n",
    "    for i in episode:\n",
    "        episode_script += lib[i] + ' '\n",
    "        \n",
    "    print(episode_script)\n",
    "else:\n",
    "    print(\"Prompt is too long!\")"
   ]
  },
  {
   "cell_type": "markdown",
   "id": "9407aed4",
   "metadata": {},
   "source": [
    "<h2>Some notes:</h2>\n",
    "<ol>\n",
    "    <li>Embedding layer might not be that useful. I'm just trying to understand and generate sequences, not get the AI to understand the difference between words.</li>\n",
    "    <li>If embedding layers are useless, switching to a character based tokenization might be better than the word based tokenization method I'm using now.</li>\n",
    "    <li>The AI currently does not seem to understand any differences. I've changed the architecture of the model several times with no change in it's performance, so I'm going to guess the problem lies with how I'm feeding and prepping the data.</li>\n",
    "</ol>\n",
    "<br></br>\n",
    "<h3>Performance notes after changing data to character-based tokenization:</h3>\n",
    "<ul>\n",
    "    <li>Doesn't seem to be any change in performance, but I just started with this new strategy, so I'm going to put a little more work into it.</li>\n",
    "    <li>Not sure if it was the character based tokenization or the fact that the model isn't training on empty inputs anymore (no more 0 padding in training data), but the model is now actually performing better. I also simplified the model a bit to only take one input (previous tokens) in order to debug the lack of learning, which also could contribute to this boost in performance. I'm going to add back the second input with this new method and see if there's any changes.</li>\n",
    "    <li>It seems to be the fact that input data is no longer padded that the model is performing better than ever. I am going to try and go back to the old tokenization method to see if that will change anything.</li>\n",
    "</ul>\n",
    "\n",
    "<h3>Notes after changing back to word-based tokenization:</h3>\n",
    "<ul>\n",
    "    <li>I included the loss (blue) and accuracy (orange) graph below:</li>\n",
    "    <img src='Graph1.png'>\n",
    "    <li>As you can see, the training is unstable as fuck, but it is slowly getting better over time, which is good. I'm going to add back the second input as well as testing the model with what it can currently produce. After making those changes, I got this graph:</li>\n",
    "    <img src='Graph2.png'>\n",
    "    <li>No idea what the fuck happened here. Amazing how the loss started so high at first, but that might be just from the extra neurons I threw into the model. To make sure the first input isn't the only part of the model training, I'll add some dropout to both inputs and also mess with the Embedding layers for both inputs.</li>\n",
    "    <li>So this is disappointing:</li>\n",
    "    <img src='Graph3.png'>\n",
    "    <li>It seems that the model is no longer improving after training some more... This is annoying.</li>\n",
    "</ul>\n",
    "<br></br>\n",
    "<h3>Let's talk validation data:</h3>\n",
    "<h4>(and why this approach I'm taking is terrible)</h4>\n",
    "<p>Many people who aren't trying to kill their careers in ML will use validation data to make sure their model is actually learning rather than memorizing a dataset. This is smart. It introduces new data to the model that it hasn't seen before and allows for programmers to see if their model is overfitting or not. So why am I not using validation data?</p>\n",
    "<br></br>\n",
    "<p>Well, the answer is simple. <b>I'm stupid and stubborn</b>. I am feeding the network very little data. You might say \"there's so much training data in the episode transcripts, you have no excuse\", and you're right, but I am also feeding to the network the descriptions for each episode, which is very little information to the network. There's only so many descriptions, and while I can split up the transcripts to get more training data, I can't split up sequences as little as descriptions, especially when I need the whole desc sequence to actually represent a description for an episode.</p>\n",
    "<p>I mean, if I'm being honest it's not the worse solution. I mean, think about it: In theory this will produced an overfitted model that generates infinite episodes given the topic of any existing spongebob episode. In theory, at least.</p>\n",
    "<br></br>\n",
    "<h3>A slightly better approach:</h3>\n",
    "<h4>(Apart from using something like the GPT model)</h4>\n",
    "<p>Transfer learning. Use a model that already has a fully trained Embedding and LSTM/GRU layer and slap it to the top of my model. This would give the model a giant boost, but I'm still not sure how well it would do. Might experiment with this in the future...</p>\n",
    "\n",
    "<br></br>\n",
    "\n",
    "<h1>Results:</h1>\n",
    "<h4>(Prompt used: Spongebob finds a rare sea shell)</h4>\n",
    "\n",
    "<br></br>\n",
    "\n",
    "<h3>GRU Model:</h3>\n",
    "<p>After 1000 epochs:</p>\n",
    "<img src='Results1.png'>\n",
    "<p>After 2000 epochs: (Seems like it's getting better(?))</p>\n",
    "<img src='Results2.png'>\n",
    "<p>After 3000 epochs:</p>\n",
    "<p>No image here because the output is just a bunch of whitespace interrupted by a lot of periods and the occasional \"squidward\"...</p>\n",
    "<br></br>\n",
    "<p>Damn it</p>\n",
    "<br>After 4000 epochs:</br>\n",
    "<p>...It's just whitespace</p>\n",
    "<p><b>FUCK</b></p>\n",
    "<br></br>\n",
    "<p>Well, hopefully I can maybe salvage this experiment by getting some interesting results with LSTM to compare to GRU.</p>\n",
    "<br></br>\n",
    "\n",
    "<h3>LSTM Model:</h3>\n",
    "<p>After 1000 epochs:</p>\n",
    "<img src='Results3.png'>\n",
    "<p>After 2000 epochs: (noticing a trend here)</p>\n",
    "<img src='Results4.png'>\n",
    "<p>After 3000 epochs:</p>\n",
    "<img src='Results5.png'>\n",
    "<p>After 4000 epochs:</p>\n",
    "<p>Whitespace again...</p>\n",
    "\n",
    "<br></br>\n",
    "\n",
    "<p>Alright, back to the drawing board.</p>"
   ]
  },
  {
   "cell_type": "markdown",
   "id": "e4ed2b2f",
   "metadata": {},
   "source": [
    "<h2>Notes about the old method:</h2>\n",
    "<ul>\n",
    "    <li>It overfits like crazy.</li>\n",
    "    <li>When I refer to an \"epoch\", it's not a true epoch, but rather one batch of data going through the model. I can't be bothered to change this, so from now on that's what I'm referring to when I say something like \"one epoch of training\".</li>\n",
    "</ul>\n",
    "\n",
    "<br></br>\n",
    "\n",
    "<h1>New Plan:</h1>\n",
    "<p>Let's ditch the old plan of providing a description for each episode generated. That's going to introduce a lot of headaches in terms of prepping the data and somehow not overfitting the model.</p>\n",
    "<p>Alright, cool, now the whole experiment can be shut down. However, I still want to make something from this failed project so that I don't feel like this was a waste of time (which it probably was but who cares, it's fun). My new plan is this:</p>\n",
    "<ol>\n",
    "    <li>Ditch the description input side of the model.</li>\n",
    "    <li>Make a simple, generic RNN model using either GRU or LSTM to generate sequences of text that will hopefully resemble an episode of spongebob.</li>\n",
    "    <li>To provide a way for the user to have at least <i>some</i> control over what the program generates, the user will be able to input the first n number of tokens for the model to start generating with.</li>\n",
    "    <li>Also, since I want to use the descriptions in some way, pass in either a random pre-determined description or a vector representing a specific spongebob episode (one hot encoded). My hope for this is this will allow users to guide the output of the model to follow a theme similar to a specific episode of spongebob.</li>\n",
    "</ol>\n",
    "\n",
    "<br></br>\n",
    "<p>Hopefully with these changes, the model will perform better while still offering a little control to the user.</p>"
   ]
  },
  {
   "cell_type": "markdown",
   "id": "42d0d7ba",
   "metadata": {},
   "source": [
    "<h1>Fuck-up #1:</h1>\n",
    "<p>I'm so dumb. When making the model, I concatenated the inputs of the two input models, rather than their outputs. This lead to the GRU and LSTM layers to <b>NOT EVEN RUN</b> when training. Re-running the training algorithm now to see if I can fix my fuck up.</p>\n",
    "\n",
    "<h1>After fixing the fuck-up:</h1>\n",
    "<p>My previous observations and notes are still correct, and the model is still producing whitespace as output, only it reaches this point a lot faster in the training process, which sucks but at least I didn't write a ton of notes for nothing.</p>"
   ]
  },
  {
   "cell_type": "code",
   "execution_count": 8,
   "id": "01648cb3",
   "metadata": {
    "ExecuteTime": {
     "end_time": "2023-09-07T04:18:28.634214Z",
     "start_time": "2023-09-07T04:18:28.619508Z"
    }
   },
   "outputs": [],
   "source": [
    "#get our old imports\n",
    "from tensorflow.keras.models import Sequential, Model\n",
    "from tensorflow.keras.layers import Input, Embedding, Dense, GRU, LSTM, Dropout, BatchNormalization, concatenate, TimeDistributed, Flatten\n",
    "from tensorflow.keras.layers import LeakyReLU\n",
    "from tensorflow.keras.optimizers import Adam\n",
    "\n",
    "from tqdm.notebook import tqdm as log_progress\n",
    "from tensorflow.keras.models import load_model\n",
    "from IPython.display import clear_output\n",
    "\n",
    "from tensorflow.keras.utils import to_categorical\n",
    "import random"
   ]
  },
  {
   "cell_type": "code",
   "execution_count": 16,
   "id": "72978487",
   "metadata": {
    "ExecuteTime": {
     "end_time": "2023-09-07T04:41:35.312474Z",
     "start_time": "2023-09-07T04:41:35.284290Z"
    }
   },
   "outputs": [],
   "source": [
    "#smallest length a sequence can be\n",
    "MIN_LEN = MAX_SEQ_LEN\n",
    "\n",
    "X1 = [] #ep descriptions\n",
    "X2 = [] #prev tokens\n",
    "Y = []  #ep transcipts\n",
    "\n",
    "#Let's make the new model\n",
    "def V2Model():\n",
    "    #transcript input\n",
    "    x_in = Input(shape=(MAX_SEQ_LEN))\n",
    "    \n",
    "    x = Embedding(len(lib), 40, input_length=1)(x_in)\n",
    "    \n",
    "    x = GRU(128)(x)\n",
    "    \n",
    "    x = Model(inputs=x_in, outputs=x)\n",
    "    \n",
    "    #one hot encoded of what episode theme should be used (might not use this)\n",
    "    y_in = Input(shape=(successful_items)) #successful items is the number of episodes successfully loaded from the dataset\n",
    "    \n",
    "    y = Dense(128)(y_in)\n",
    "    y = LeakyReLU()(y)\n",
    "    y = Dropout(0.6)(y)\n",
    "    \n",
    "    y = Model(inputs=y_in, outputs=y)\n",
    "    \n",
    "    #combined models\n",
    "    z = concatenate([x.output, y.output])\n",
    "    \n",
    "    z = Dense(128)(z)\n",
    "    z = LeakyReLU()(z)\n",
    "    z = Dropout(0.4)(z)\n",
    "    \n",
    "    z = Dense(len(lib), activation='softmax')(z)\n",
    "    z = Model(inputs=[x_in, y_in], outputs=z)\n",
    "    return z\n",
    "    \n",
    "\n",
    "#next we need a new way of preparing datasets for the new network\n",
    "def get_dataset(batch_size):\n",
    "    X1 = []\n",
    "    X2 = []\n",
    "    Y = []\n",
    "    for batch in range(batch_size):\n",
    "        rand_trans = random.randrange(0, len(tokenized)) #get a random transcript to get information from\n",
    "        rand_start = random.randrange(0, len(tokenized[rand_trans])-MAX_SEQ_LEN)\n",
    "        \n",
    "        temp = tokenized[rand_trans][rand_start:rand_start+MAX_SEQ_LEN]\n",
    "        \n",
    "        #one hot encoding of which episode theme should the AI use. \n",
    "        one_hot = np.zeros((successful_items))\n",
    "        one_hot[rand_trans] = 1\n",
    "        \n",
    "        X1.append(np.array(temp))\n",
    "        X2.append(one_hot)\n",
    "        Y.append(tokenized[rand_trans][rand_start+MAX_SEQ_LEN])\n",
    "        \n",
    "    X1 = np.array(X1, dtype='float32')\n",
    "    X2 = np.array(X2, dtype='float32')\n",
    "    Y = np.array(Y)\n",
    "    \n",
    "    Y = to_categorical(Y, num_classes=len(lib))\n",
    "    return X1, X2, Y\n",
    "\n",
    "#and finally, we need a new training loop\n",
    "#it's not going to be much different from the old training model, but I feel like it's just more organized to have a method\n",
    "#for everything new I'm adding / changing\n",
    "def train(model, epochs, batch_size, name=\"Model.h5\"):\n",
    "    losses = []\n",
    "\n",
    "    for i in range(epochs):\n",
    "        #generate some data\n",
    "        X1, X2, Y = get_dataset(batch_size)\n",
    "\n",
    "        #train the network\n",
    "        loss = model.train_on_batch([X1, X2], Y)\n",
    "        losses.append(loss)\n",
    "\n",
    "        clear_output(wait=True)\n",
    "        print(f\"Epoch {i+1}/{epochs}: LOSS={loss[0]}    ACC={loss[1]}\")\n",
    "\n",
    "    print(\"Finished\")\n",
    "    model.save(name)\n",
    "    plt.plot(losses)"
   ]
  },
  {
   "cell_type": "code",
   "execution_count": 17,
   "id": "e290fbd1",
   "metadata": {
    "ExecuteTime": {
     "end_time": "2023-09-07T04:41:36.124231Z",
     "start_time": "2023-09-07T04:41:35.932258Z"
    }
   },
   "outputs": [
    {
     "name": "stdout",
     "output_type": "stream",
     "text": [
      "Model: \"model_11\"\n",
      "__________________________________________________________________________________________________\n",
      "Layer (type)                    Output Shape         Param #     Connected to                     \n",
      "==================================================================================================\n",
      "input_8 (InputLayer)            [(None, 317)]        0                                            \n",
      "__________________________________________________________________________________________________\n",
      "input_7 (InputLayer)            [(None, 40)]         0                                            \n",
      "__________________________________________________________________________________________________\n",
      "dense_9 (Dense)                 (None, 128)          40704       input_8[0][0]                    \n",
      "__________________________________________________________________________________________________\n",
      "embedding_3 (Embedding)         (None, 40, 40)       714680      input_7[0][0]                    \n",
      "__________________________________________________________________________________________________\n",
      "leaky_re_lu_6 (LeakyReLU)       (None, 128)          0           dense_9[0][0]                    \n",
      "__________________________________________________________________________________________________\n",
      "gru_5 (GRU)                     (None, 128)          65280       embedding_3[0][0]                \n",
      "__________________________________________________________________________________________________\n",
      "dropout_6 (Dropout)             (None, 128)          0           leaky_re_lu_6[0][0]              \n",
      "__________________________________________________________________________________________________\n",
      "concatenate_3 (Concatenate)     (None, 256)          0           gru_5[0][0]                      \n",
      "                                                                 dropout_6[0][0]                  \n",
      "__________________________________________________________________________________________________\n",
      "dense_10 (Dense)                (None, 128)          32896       concatenate_3[0][0]              \n",
      "__________________________________________________________________________________________________\n",
      "leaky_re_lu_7 (LeakyReLU)       (None, 128)          0           dense_10[0][0]                   \n",
      "__________________________________________________________________________________________________\n",
      "dropout_7 (Dropout)             (None, 128)          0           leaky_re_lu_7[0][0]              \n",
      "__________________________________________________________________________________________________\n",
      "dense_11 (Dense)                (None, 17867)        2304843     dropout_7[0][0]                  \n",
      "==================================================================================================\n",
      "Total params: 3,158,403\n",
      "Trainable params: 3,158,403\n",
      "Non-trainable params: 0\n",
      "__________________________________________________________________________________________________\n",
      "None\n"
     ]
    }
   ],
   "source": [
    "model = V2Model()\n",
    "\n",
    "opt = Adam(learning_rate=0.0003)\n",
    "model.compile(loss='categorical_crossentropy', optimizer=opt, metrics=['accuracy'])\n",
    "print(model.summary())"
   ]
  },
  {
   "cell_type": "code",
   "execution_count": 20,
   "id": "8d177680",
   "metadata": {
    "ExecuteTime": {
     "end_time": "2023-09-07T05:12:53.445691Z",
     "start_time": "2023-09-07T05:08:29.132124Z"
    }
   },
   "outputs": [
    {
     "name": "stdout",
     "output_type": "stream",
     "text": [
      "Epoch 10000/10000: LOSS=3.7042007446289062    ACC=0.34375\n",
      "Finished\n"
     ]
    },
    {
     "data": {
      "image/png": "[encoded data removed]",
      "text/plain": [
       "<Figure size 432x288 with 1 Axes>"
      ]
     },
     "metadata": {
      "needs_background": "light"
     },
     "output_type": "display_data"
    }
   ],
   "source": [
    "NAME = \"SpongeBobV2.h5\"\n",
    "EPOCHS = 10000\n",
    "BATCH_SIZE = 64\n",
    "\n",
    "train(model, EPOCHS, BATCH_SIZE, name=NAME)"
   ]
  },
  {
   "cell_type": "markdown",
   "id": "be552f2b",
   "metadata": {},
   "source": [
    "<h1>New model performance notes:</h1>\n",
    "<p>Right away the model is performing a ton better than method #1. The loss is dropping while the accuracy is rising. This is a good sign as it shows that there is much less overfitting taking place. I still have to write a new script to properly test the model, but the graphs are looking much better so far, and I am less sad.</p>"
   ]
  },
  {
   "cell_type": "code",
   "execution_count": null,
   "id": "0912a782",
   "metadata": {},
   "outputs": [],
   "source": []
  }
 ],
 "metadata": {
  "kernelspec": {
   "display_name": "Python 3 (ipykernel)",
   "language": "python",
   "name": "python3"
  },
  "language_info": {
   "codemirror_mode": {
    "name": "ipython",
    "version": 3
   },
   "file_extension": ".py",
   "mimetype": "text/x-python",
   "name": "python",
   "nbconvert_exporter": "python",
   "pygments_lexer": "ipython3",
   "version": "3.9.12"
  }
 },
 "nbformat": 4,
 "nbformat_minor": 5
}
